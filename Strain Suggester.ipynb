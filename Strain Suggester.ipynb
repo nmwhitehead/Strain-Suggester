{
 "cells": [
  {
   "cell_type": "code",
   "execution_count": null,
   "metadata": {},
   "outputs": [],
   "source": [
    "import pandas as pd\n",
    "import numpy as np\n",
    "import sys\n",
    "import re\n",
    "import json\n",
    "import matplotlib.pyplot as plt\n",
    "import seaborn as sns\n",
    "from nltk.tokenize import RegexpTokenizer\n",
    "\n",
    "from sklearn.datasets import make_blobs\n",
    "from sklearn.cluster import KMeans, DBSCAN\n",
    "from sklearn.metrics import silhouette_score\n",
    "from sklearn.metrics.pairwise import pairwise_distances\n",
    "from sklearn.preprocessing import StandardScaler\n",
    "from sklearn.neighbors import DistanceMetric, KNeighborsRegressor\n",
    "from sklearn.datasets import load_iris, load_wine, make_classification\n",
    "\n",
    "from scipy import sparse\n",
    "\n",
    "from spellchecker import SpellChecker"
   ]
  },
  {
   "cell_type": "code",
   "execution_count": null,
   "metadata": {},
   "outputs": [],
   "source": []
  },
  {
   "cell_type": "markdown",
   "metadata": {},
   "source": [
    "### Mess Around With Pandas Options"
   ]
  },
  {
   "cell_type": "code",
   "execution_count": null,
   "metadata": {},
   "outputs": [],
   "source": [
    "pd.options.display.max_colwidth = 1000\n",
    "pd.options.display.max_rows = 200\n",
    "pd.options.display.min_rows = 200\n",
    "pd.options.display.max_columns = 200"
   ]
  },
  {
   "cell_type": "code",
   "execution_count": null,
   "metadata": {},
   "outputs": [],
   "source": []
  },
  {
   "cell_type": "markdown",
   "metadata": {},
   "source": [
    "### Load in and Credit Data"
   ]
  },
  {
   "cell_type": "code",
   "execution_count": null,
   "metadata": {},
   "outputs": [],
   "source": [
    "strain_data = pd.read_csv('Data/Cannabis_Data.csv')"
   ]
  },
  {
   "cell_type": "code",
   "execution_count": null,
   "metadata": {},
   "outputs": [],
   "source": [
    "url_details = ['https://www.kaggle.com/kingburrito666/cannabis-strains', '11/6/2019']"
   ]
  },
  {
   "cell_type": "code",
   "execution_count": null,
   "metadata": {},
   "outputs": [],
   "source": []
  },
  {
   "cell_type": "markdown",
   "metadata": {},
   "source": [
    "### Search Methods"
   ]
  },
  {
   "cell_type": "code",
   "execution_count": null,
   "metadata": {},
   "outputs": [],
   "source": [
    "def find_strain(name):\n",
    "    return strain_data['Description'][strain_data['Strain'].str.contains(name)]"
   ]
  },
  {
   "cell_type": "code",
   "execution_count": null,
   "metadata": {},
   "outputs": [],
   "source": [
    "def find_descrip(word):\n",
    "    return strain_data[strain_data['Description'].str.contains(word)]"
   ]
  },
  {
   "cell_type": "code",
   "execution_count": null,
   "metadata": {},
   "outputs": [],
   "source": []
  },
  {
   "cell_type": "markdown",
   "metadata": {},
   "source": [
    "### Cleeeeaaaaning Time"
   ]
  },
  {
   "cell_type": "code",
   "execution_count": null,
   "metadata": {},
   "outputs": [],
   "source": [
    "strain_data['Flavor'].fillna('Unknown', inplace=True)"
   ]
  },
  {
   "cell_type": "code",
   "execution_count": null,
   "metadata": {},
   "outputs": [],
   "source": [
    "strain_data['Description'].fillna('None', inplace=True)"
   ]
  },
  {
   "cell_type": "code",
   "execution_count": null,
   "metadata": {},
   "outputs": [],
   "source": [
    "strain_data['Strain'] = strain_data['Strain'].str.replace('-', ' ')\n",
    "strain_data['Strain'] = strain_data['Strain'].str.replace('Ar 4', 'Ar-4')"
   ]
  },
  {
   "cell_type": "code",
   "execution_count": null,
   "metadata": {},
   "outputs": [],
   "source": [
    "list_of_strains = list(strain_data['Strain'])"
   ]
  },
  {
   "cell_type": "markdown",
   "metadata": {},
   "source": [
    "## Create a New DataFrame to Create New Columns "
   ]
  },
  {
   "cell_type": "code",
   "execution_count": null,
   "metadata": {},
   "outputs": [],
   "source": [
    "strain_breakdown = pd.DataFrame(strain_data['Strain'])\n",
    "strain_breakdown['Rating'] = strain_data['Rating']"
   ]
  },
  {
   "cell_type": "markdown",
   "metadata": {},
   "source": [
    "### Split The Strain Types"
   ]
  },
  {
   "cell_type": "code",
   "execution_count": null,
   "metadata": {},
   "outputs": [],
   "source": [
    "# Create Dummie Variables for Sativa, Indica, and Hybrid.\n",
    "\n",
    "strain_breakdown['Type'] = strain_data['Type']\n",
    "\n",
    "strain_breakdown = pd.get_dummies(strain_breakdown, columns=['Type'])\n",
    "\n",
    "strain_breakdown.columns = ['Strain', 'Rating', 'Type: Hybrid', 'Type: Indica', 'Type: Sativa']"
   ]
  },
  {
   "cell_type": "markdown",
   "metadata": {},
   "source": [
    "### Effect Columns"
   ]
  },
  {
   "cell_type": "code",
   "execution_count": null,
   "metadata": {},
   "outputs": [],
   "source": [
    "# Since their are only 12 Effect Types listed, this was easily done manually.\n",
    "\n",
    "strain_breakdown['Effect: Creative'] = (strain_data['Effects'].str.contains('Creative')).astype(int)\n",
    "strain_breakdown['Effect: Energetic'] = (strain_data['Effects'].str.contains('Energetic')).astype(int)\n",
    "strain_breakdown['Effect: Tingly'] = (strain_data['Effects'].str.contains('Tingly')).astype(int)\n",
    "strain_breakdown['Effect: Euphoric'] = (strain_data['Effects'].str.contains('Euphoric')).astype(int)\n",
    "strain_breakdown['Effect: Relaxed'] = (strain_data['Effects'].str.contains('Relaxed')).astype(int)\n",
    "strain_breakdown['Effect: Aroused'] = (strain_data['Effects'].str.contains('Aroused')).astype(int)\n",
    "strain_breakdown['Effect: Happy'] = (strain_data['Effects'].str.contains('Happy')).astype(int)\n",
    "strain_breakdown['Effect: Uplifted'] = (strain_data['Effects'].str.contains('Uplifted')).astype(int)\n",
    "strain_breakdown['Effect: Hungry'] = (strain_data['Effects'].str.contains('Hungry')).astype(int)\n",
    "strain_breakdown['Effect: Talkative'] = (strain_data['Effects'].str.contains('Talkative')).astype(int)\n",
    "strain_breakdown['Effect: Sleepy'] = (strain_data['Effects'].str.contains('Sleepy')).astype(int)\n",
    "strain_breakdown['Effect: Focused'] = (strain_data['Effects'].str.contains('Focused')).astype(int)"
   ]
  },
  {
   "cell_type": "markdown",
   "metadata": {},
   "source": [
    "### Flavor Columns"
   ]
  },
  {
   "cell_type": "code",
   "execution_count": null,
   "metadata": {},
   "outputs": [],
   "source": [
    "# # The Flavor Column was a bit more complex, so a for loop was needed to extract all the words used.\n",
    "\n",
    "# flavor_options = []\n",
    "\n",
    "# for i in range(len(strain_data)):\n",
    "#     flavors = strain_data['Flavor'].iloc[i,]\n",
    "#     flavors = flavors.split(',')\n",
    "#     for flav in flavors:\n",
    "#         if flav not in flavor_options:\n",
    "#             flavor_options.append(flav)\n",
    "#         else:\n",
    "#             pass"
   ]
  },
  {
   "cell_type": "code",
   "execution_count": null,
   "metadata": {},
   "outputs": [],
   "source": [
    "# print (flavor_options, end=' ')\n",
    "# # I'm about 50/50 on using these, because I don't know how important taste is to the average user, but here they are."
   ]
  },
  {
   "cell_type": "code",
   "execution_count": null,
   "metadata": {},
   "outputs": [],
   "source": [
    "# for flavors in flavor_options:\n",
    "#     strain_breakdown['Terpenes: ' + flavors] = (strain_data['Flavor'].str.contains(flavors)).astype(int)\n",
    "#     # Terpenes are the technical term"
   ]
  },
  {
   "cell_type": "markdown",
   "metadata": {},
   "source": [
    "### Medical Uses Columns"
   ]
  },
  {
   "cell_type": "code",
   "execution_count": null,
   "metadata": {},
   "outputs": [],
   "source": [
    "# This may not be the most effective, but the plan is to search the description column for medical reasons to use marijuana.\n",
    "\n",
    "strain_breakdown['Medical: Pain'] = (strain_data['Description'].str.lower().str.contains(' pain')).astype(int)\n",
    "\n",
    "insomnia = ['sleep', 'insomnia', 'awake']\n",
    "strain_breakdown['Medical: Insomnia'] = (strain_data['Description'].apply(lambda x: any(word in x for word in insomnia))).astype(int)\n",
    "\n",
    "nausea = ['nausea', 'chemo', 'cancer']\n",
    "strain_breakdown['Medical: Nausea'] = (strain_data['Description'].apply(lambda x: any(word in x for word in nausea))).astype(int)\n",
    "\n",
    "seizure = ['epilep', 'seiz']\n",
    "strain_breakdown['Medical: Seizure'] = (strain_data['Description'].apply(lambda x: any(words in x for words in seizure))).astype(int)\n",
    "\n",
    "anxiety = ['anxi', 'panic']\n",
    "strain_breakdown['Medical: Anxiety'] = (strain_data['Description'].apply(lambda x: any(words in x for words in anxiety))).astype(int)\n",
    "\n",
    "strain_breakdown['Medical: Muscle Spasms'] = (strain_data['Description'].str.lower().str.contains('muscle spas')).astype(int)\n",
    "\n",
    "appetite = ['weigh', 'appetite', 'eat', 'anorexia']\n",
    "strain_breakdown['Medical: Appetite'] = (strain_data['Description'].apply(lambda x: any(words in x for words in appetite))).astype(int)\n",
    "\n",
    "strain_breakdown['Medical: Stress'] = (strain_data['Description'].str.lower().str.contains('stress')).astype(int)\n",
    "\n",
    "strain_breakdown['Medical: Depression'] = (strain_data['Description'].str.lower().str.contains('depress')).astype(int)\n",
    "\n",
    "cronhs_disease = ['cronh', 'digest']\n",
    "strain_breakdown[\"Medical: Crohn's Disease\"] = (strain_data['Description'].apply(lambda x: any(words in x for words in cronhs_disease))).astype(int)\n",
    "\n",
    "substance_abuse = ['addict', 'alcoho', 'opiod']\n",
    "strain_breakdown['Medical: Substance Abuse'] = (strain_data['Description'].apply(lambda x: any(words in x for words in substance_abuse))).astype(int)\n",
    "\n",
    "strain_breakdown['Medical: PTSD'] = (strain_data['Description'].str.upper().str.contains('PTSD')).astype(int)\n",
    "\n",
    "strain_breakdown['Medical: Arthritis'] = (strain_data['Description'].str.lower().str.contains('arthritis')).astype(int)\n",
    "\n",
    "strain_breakdown['Medical: Fatigue'] = (strain_data['Description'].str.lower().str.contains('fatigue')).astype(int)\n",
    "\n",
    "# strain_breakdown['Medical: '] = (strain_data['Description'].str.lower().str.contains((''))).astype(int)\n",
    "# strain_breakdown['Medical: '] = (strain_data['Description'].str.lower().str.contains((''))).astype(int)\n",
    "# strain_breakdown['Medical: '] = (strain_data['Description'].str.lower().str.contains((''))).astype(int)\n",
    "# strain_breakdown['Medical: '] = (strain_data['Description'].str.lower().str.contains((''))).astype(int)\n",
    "# strain_breakdown['Medical: '] = (strain_data['Description'].str.lower().str.contains((''))).astype(int)"
   ]
  },
  {
   "cell_type": "code",
   "execution_count": null,
   "metadata": {},
   "outputs": [],
   "source": []
  },
  {
   "cell_type": "code",
   "execution_count": null,
   "metadata": {},
   "outputs": [],
   "source": []
  },
  {
   "cell_type": "code",
   "execution_count": null,
   "metadata": {},
   "outputs": [],
   "source": []
  },
  {
   "cell_type": "markdown",
   "metadata": {},
   "source": [
    "# Below Sections May Be Replaced With an NLP"
   ]
  },
  {
   "cell_type": "markdown",
   "metadata": {},
   "source": [
    "### Parent Columns"
   ]
  },
  {
   "cell_type": "code",
   "execution_count": null,
   "metadata": {},
   "outputs": [],
   "source": []
  },
  {
   "cell_type": "code",
   "execution_count": null,
   "metadata": {},
   "outputs": [],
   "source": [
    "# List of common parent strains used as key words to seach for in the description column.\n",
    "\n",
    "parent_strains = [\n",
    "    \n",
    "    'Aceh', 'Hindu Kush','OG Kush', 'Sour Diesel', 'Granddaddy Purple', 'Northern Lights',\n",
    "    'Durban Poison', 'Bubba Kush', 'Pre-98 Bubba Kush', 'Jack Herer', 'Blue Dream', 'Trainwreck',\n",
    "    'Hawaiian', 'Amnesia', 'Super Silver Haze', 'OG Badazz', 'Ms. Universe', 'LSD', 'Banana OG',\n",
    "    'White Widow', 'Nepali OG', 'Afgoo', 'Appalachia', 'Harlequin', 'Jack the Ripper', 'Pennywise',\n",
    "    'Lilly', 'Headband', 'Snowdawg', 'Snow Lotus', 'Green Crack', 'Alien OG', 'Alien Kush', 'Alien Dawg',\n",
    "    'Super Silver Haze', 'Chernobyl', 'Elephant', 'Apollo 13', 'Space Queen', \"Jack’s Cleaner\",\n",
    "    'LA Confidential', 'Maui Wowie', 'Gorilla Glue', 'AK-47', 'Blue Cheese', 'Deep Chunk', 'G13', \n",
    "    \"Rare Dankness #1\", 'Skywalker', 'Skywalker OG', 'Master Kush', 'SFV OG', 'Gooberry', 'Hell’s Angel OG',\n",
    "    'Captain Krypt', 'Sour Bubble', 'Shiva', 'Blue Moonshine', 'Ortega', 'Fire OG', 'Green Ribbon',\n",
    "    'Triangle Kush', 'Georgia Pine', 'Shishkaberry', 'Great White Shark', 'Mazar I Sharif', \n",
    "    \n",
    "    'Nepalese', 'Afghani', 'Thai', 'Skunk', 'The White', 'Blackberry', 'Cheese',\n",
    "    \n",
    "]\n",
    "\n",
    "\n",
    "# These are for strains that will need the first letter to be capitalized, since the word appears in other ways.\n",
    "title_parent_strains = [     \n",
    "     \n",
    "]"
   ]
  },
  {
   "cell_type": "code",
   "execution_count": null,
   "metadata": {},
   "outputs": [],
   "source": [
    "for parents in parent_strains:\n",
    "    strain_breakdown['Parent: ' + parents] = (strain_data['Description'].str.contains(parents)).astype(int)"
   ]
  },
  {
   "cell_type": "code",
   "execution_count": null,
   "metadata": {},
   "outputs": [],
   "source": [
    "gsc = ['Girl Scout Cookie', 'GSC']\n",
    "strain_breakdown['Parent: Girl Scout Cookies'] = (strain_data['Description'].apply(lambda x: any(word in x for word in gsc))).astype(int)\n",
    "\n",
    "chemdawg91 = ['chemdawg ‘91', 'chemdawg 91']\n",
    "strain_breakdown['Parent: Chemdawg 91'] = (strain_data['Description'].str.lower().apply(lambda x: any(word in x for word in chemdawg91))).astype(int)\n",
    "\n",
    "chemdawg = ['chemdawg', 'chem dawg', 'chem dog']\n",
    "strain_breakdown['Parent: Chemdawg'] = (strain_data['Description'].str.lower().apply(lambda x: any(word in x for word in chemdawg))).astype(int)"
   ]
  },
  {
   "cell_type": "code",
   "execution_count": null,
   "metadata": {},
   "outputs": [],
   "source": []
  },
  {
   "cell_type": "markdown",
   "metadata": {},
   "source": [
    "### Other Descriptor Columns"
   ]
  },
  {
   "cell_type": "code",
   "execution_count": null,
   "metadata": {},
   "outputs": [],
   "source": [
    "# THC/CBD and Hybrid Details\n",
    "\n",
    "sativa_dom = ['sativa-dom', 'sativa dom']\n",
    "strain_breakdown['Descriptor: Sativa Dominant'] = (strain_data['Description'].str.lower().apply(lambda x: any(word in x for word in sativa_dom))).astype(int)\n",
    "\n",
    "\n",
    "indica_dom = ['indica-dom', 'indica dom']\n",
    "strain_breakdown['Descriptor: Indica Dominant'] = (strain_data['Description'].str.lower().apply(lambda x: any(word in x for word in indica_dom))).astype(int)\n",
    "\n",
    "\n",
    "strain_breakdown['Descriptor: 50/50 Hybrid'] = (strain_data['Description'].str.lower().str.contains('50/50 hybrid')).astype(int)\n",
    "\n",
    "\n",
    "high_cbd = ['high cbd', 'high-cbd', 'cbd rich', 'cdb-rich', 'higher cbd', 'cbd heavy', 'best cbd',\n",
    "            'cbd levels', 'robust cbd', 'uplifting cbd', 'higher levels of cbd']\n",
    "strain_breakdown['Descriptor: High CBD'] = (strain_data['Description'].str.lower().apply(lambda x: any(word in x for word in high_cbd))).astype(int)\n",
    "\n",
    "\n",
    "high_thc = ['high thc', 'high-thc', 'thc power', 'high level of thc', 'high levels of thc', 'thc content over',\n",
    "            'thc content passes', 'thc content of up', 'high tolerance to thc', 'thc levels over', 'noted thc']\n",
    "strain_breakdown['Descriptor: High THC'] = (strain_data['Description'].str.lower().apply(lambda x: any(word in x for word in high_thc))).astype(int)\n",
    "\n",
    "\n",
    "low_cbd = ['low cbd', 'low-cbd', 'weak cdb', 'weak-cbd', 'subtle cbd', 'cbd levels of 2%', 'cbd levels of 3%']\n",
    "strain_breakdown['Descriptor: Low CBD'] = (strain_data['Description'].str.lower().apply(lambda x: any(word in x for word in low_cbd))).astype(int)\n",
    "\n",
    "\n",
    "low_thc = ['low thc', 'low-thc', 'weak thc', 'weak-thc']\n",
    "strain_breakdown['Descriptor: Low THC'] = (strain_data['Description'].str.lower().apply(lambda x: any(word in x for word in low_thc))).astype(int)\n",
    "\n",
    "\n",
    "# one_to_one = ['1:1 CBD/THC', '1:1 THC/CBD', '1:1 THC-CBD', '1:1 CBD-THC', '1:1 ratio of CBD:THC', '1:1 ratio of THC:CBD', 'balanced ratio']\n",
    "# strain_breakdown['Descriptor: 1:1 CBD/THC'] = (strain_data['Description'].str.lower().apply(lambda x: any(word in x for word in one_to_one))).astype(int)"
   ]
  },
  {
   "cell_type": "code",
   "execution_count": null,
   "metadata": {},
   "outputs": [],
   "source": [
    "# Other Cannabinoid\n",
    "\n",
    "strain_breakdown['Descriptor: Caryophyllene'] = (strain_data['Description'].str.lower().str.contains('caryophyllene')).astype(int)\n",
    "strain_breakdown['Descriptor: Limonene'] = (strain_data['Description'].str.lower().str.contains('limonene')).astype(int)\n",
    "strain_breakdown['Descriptor: Humulene'] = (strain_data['Description'].str.lower().str.contains('humulene')).astype(int)\n",
    "strain_breakdown['Descriptor: Ocimene'] = (strain_data['Description'].str.lower().str.contains('ocimene')).astype(int)\n",
    "strain_breakdown['Descriptor: Terpinolene'] = (strain_data['Description'].str.lower().str.contains('terpinolene')).astype(int)\n",
    "strain_breakdown['Descriptor: Myrcene'] = (strain_data['Description'].str.lower().str.contains('myrcene')).astype(int)\n",
    "strain_breakdown['Descriptor: Pinene'] = (strain_data['Description'].str.lower().str.contains('pinene')).astype(int)\n",
    "strain_breakdown['Descriptor: Linalool'] = (strain_data['Description'].str.lower().str.contains('linalool')).astype(int)"
   ]
  },
  {
   "cell_type": "code",
   "execution_count": null,
   "metadata": {},
   "outputs": [],
   "source": [
    "# Other Keywords\n",
    "\n",
    "\n",
    "strain_breakdown['Descriptor: Kush'] = (strain_data['Description'].str.lower().str.contains('kush')).astype(int)\n",
    "\n",
    "\n",
    "potent = ['potent', 'strong', 'high tolerence', 'high-tolerence']\n",
    "strain_breakdown['Descriptor: Potent'] = (strain_data['Description'].str.lower().apply(lambda x: any(word in x for word in potent))).astype(int)\n",
    "\n",
    "\n",
    "body_high = ['body']\n",
    "strain_breakdown['Descriptor: Body High'] = (strain_data['Description'].str.lower().apply(lambda x: any(word in x for word in body_high))).astype(int)\n",
    "\n",
    "\n",
    "head_high = ['cerebral', 'head']\n",
    "strain_breakdown['Descriptor: Head High'] = (strain_data['Description'].str.lower().apply(lambda x: any(word in x for word in head_high))).astype(int)\n",
    "\n",
    "\n",
    "strain_breakdown['Descriptor: Daytime'] = (strain_data['Description'].str.lower().str.contains(('day'))).astype(int)\n",
    "\n",
    "\n",
    "strain_breakdown['Descriptor: Nighttime'] = (strain_data['Description'].str.lower().str.contains(('night'))).astype(int)\n",
    "\n",
    "\n",
    "strain_breakdown['Descriptor: Outside'] = (strain_data['Description'].str.lower().str.contains(('outside'))).astype(int)\n",
    "\n",
    "\n",
    "creative = ['creative', 'inspired']\n",
    "strain_breakdown['Descriptor: Creative'] = (strain_data['Description'].str.lower().apply(lambda x: any(word in x for word in creative))).astype(int)\n",
    "\n",
    "\n",
    "strain_breakdown['Descriptor: Psychedelic'] = (strain_data['Description'].str.lower().str.contains(('psychedelic'))).astype(int)\n",
    "\n",
    "\n",
    "strain_breakdown['Descriptor: Lazy'] = (strain_data['Description'].str.lower().str.contains(('lazy'))).astype(int)\n",
    "\n",
    "\n",
    "strain_breakdown['Descriptor: Calm'] = (strain_data['Description'].str.lower().str.contains(('calm'))).astype(int)"
   ]
  },
  {
   "cell_type": "markdown",
   "metadata": {},
   "source": [
    "# The Above Sections May Be Replaced With an NLP"
   ]
  },
  {
   "cell_type": "code",
   "execution_count": null,
   "metadata": {},
   "outputs": [],
   "source": []
  },
  {
   "cell_type": "markdown",
   "metadata": {},
   "source": [
    "# Not Enough Strains had the CBD to THC Ratio in the Description for it to Help, but I'll Keep this Here for Future Reference"
   ]
  },
  {
   "cell_type": "code",
   "execution_count": null,
   "metadata": {},
   "outputs": [],
   "source": []
  },
  {
   "cell_type": "code",
   "execution_count": null,
   "metadata": {},
   "outputs": [],
   "source": [
    "# thc_cbd = pd.DataFrame(strain_data['Strain'])\n",
    "\n",
    "# def find_ratio(string, name):\n",
    "#     df = strain_data['Description'].str.extract(string)\n",
    "#     df['CBD'].fillna(1, inplace=True)\n",
    "#     df['THC'].fillna(0, inplace=True)\n",
    "#     thc_cbd[name] = df['THC'].astype(int) / df['CBD'].astype(int)"
   ]
  },
  {
   "cell_type": "code",
   "execution_count": null,
   "metadata": {},
   "outputs": [],
   "source": [
    "# Credit to User jlesueur, https://stackoverflow.com/questions/58883944/extracting-specific-numbers-from-text-data?noredirect=1#comment104035437_58883944\n",
    "\n",
    "# find_ratio(r'THC:CBD ratio of about (?P<THC>\\d+):(?P<CBD>\\d+)', 'thc_cbd_1')\n",
    "# find_ratio(r'THC:CBD ratio of (?P<THC>\\d+):(?P<CBD>\\d+)', 'thc_cbd_2')\n",
    "# find_ratio(r'THC/CBD ratio of about (?P<THC>\\d+):(?P<CBD>\\d+)', 'thc_cbd_3')\n",
    "# find_ratio(r'THC/CBD ratio of (?P<THC>\\d+):(?P<CBD>\\d+)', 'thc_cbd_4')\n",
    "# find_ratio(r'(?P<THC>\\d+):(?P<CBD>\\d+) THC:CBD', 'thc_cbd_5')\n",
    "# find_ratio(r'(?P<THC>\\d+):(?P<CBD>\\d+) THC/CBD', 'thc_cbd_6')\n",
    "\n",
    "# find_ratio(r'(?P<CBD>\\d+):(?P<THC>\\d+) CBD/THC', 'cbd_thc_1')\n",
    "# find_ratio(r'(?P<CBD>\\d+):(?P<THC>\\d+) CBD:THC', 'cbd_thc_2')\n",
    "# find_ratio(r'(?P<CBD>\\d+):(?P<THC>\\d+) CBD to THC', 'cbd_thc_3')\n",
    "# find_ratio(r'CBD to THC ratio of (?P<CBD>\\d+):(?P<THC>\\d+)', 'cbd_thc_4')\n",
    "# find_ratio(r'(?P<CBD>\\d+):(?P<THC>\\d+) ratio of CBD to THC', 'cbd_thc_5')\n",
    "# find_ratio(r'CBD:THC ratio of (?P<CBD>\\d+):(?P<THC>\\d+)', 'cbd_thc_6')\n",
    "# find_ratio(r'(?P<CBD>\\d+)-to-(?P<THC>\\d+) CBD:THC', 'cbd_thc_7')\n",
    "# find_ratio(r'(?P<CBD>\\d+):(?P<THC>\\d+) 59:1 (CBD:THC)', 'cbd_thc_8')\n",
    "           \n",
    "           \n",
    "# find_ratio(r'(?P<CBD>\\d+):(?P<THC>\\d+)')\n",
    "# find_ratio(r'(?P<CBD>\\d+):(?P<THC>\\d+)')\n",
    "# find_ratio(r'(?P<CBD>\\d+):(?P<THC>\\d+)')\n",
    "# find_ratio(r'(?P<CBD>\\d+):(?P<THC>\\d+)')\n",
    "# find_ratio(r'(?P<CBD>\\d+):(?P<THC>\\d+)')\n",
    "# find_ratio(r'(?P<CBD>\\d+):(?P<THC>\\d+)')\n",
    "# find_ratio(r'(?P<CBD>\\d+):(?P<THC>\\d+)')\n",
    "# find_ratio(r'(?P<CBD>\\d+):(?P<THC>\\d+)')\n",
    "# find_ratio(r'(?P<CBD>\\d+):(?P<THC>\\d+)')\n",
    "# find_ratio(r'(?P<CBD>\\d+):(?P<THC>\\d+)')\n",
    "# find_ratio(r'(?P<CBD>\\d+):(?P<THC>\\d+)')\n",
    "# find_ratio(r'(?P<CBD>\\d+):(?P<THC>\\d+)')\n",
    "# find_ratio(r'(?P<CBD>\\d+):(?P<THC>\\d+)')\n",
    "# find_ratio(r'(?P<CBD>\\d+):(?P<THC>\\d+)')\n",
    "# find_ratio(r'(?P<CBD>\\d+):(?P<THC>\\d+)')\n",
    "# find_ratio(r'(?P<CBD>\\d+):(?P<THC>\\d+)')\n",
    "# find_ratio(r'(?P<CBD>\\d+):(?P<THC>\\d+)')\n",
    "# find_ratio(r'(?P<CBD>\\d+):(?P<THC>\\d+)')\n",
    "# find_ratio(r'(?P<CBD>\\d+):(?P<THC>\\d+)')\n",
    "\n",
    "\n",
    "# one_to_one = ['1:1 CBD/THC', '1:1 THC/CBD', '1:1 THC-CBD', '1:1 CBD-THC', '1:1 ratio of CBD:THC', '1:1 ratio of THC:CBD'\n",
    "#               '1:1 ratio of THC:CBD', 'BD:THC ratio can range anywhere from 1:1 – 2:1', 'balanced THC/CBD',\n",
    "#               '1:1 ratio of CBD to THC', '1:1 ratio of THC to CBD', '1:1 ratio of THC and CBD', '1:1 ratio of CBD and THC',\n",
    "#               'THC to CBD ratio typically comes out 1:1', '1:1 CBD-THC', 'balanced 1:1 cannabinoid', 'balanced THC:CBD ratio']\n",
    "# thc_cbd['Equal'] = (strain_data['Description'].apply(lambda x: any(word in x for word in one_to_one))).astype(int)"
   ]
  },
  {
   "cell_type": "code",
   "execution_count": null,
   "metadata": {},
   "outputs": [],
   "source": []
  },
  {
   "cell_type": "code",
   "execution_count": null,
   "metadata": {},
   "outputs": [],
   "source": [
    "# X = thc_cbd.drop(axis=1, columns=['Strain', 'Equal'])"
   ]
  },
  {
   "cell_type": "code",
   "execution_count": null,
   "metadata": {},
   "outputs": [],
   "source": [
    "# thc_cbd['Total'] = X.sum(axis=1)"
   ]
  },
  {
   "cell_type": "code",
   "execution_count": null,
   "metadata": {},
   "outputs": [],
   "source": [
    "# for strain in thc_cbd:\n",
    "#     if thc_cbd['Equal'] != 0:\n",
    "#         thc_cbd['Total'] = 1"
   ]
  },
  {
   "cell_type": "code",
   "execution_count": null,
   "metadata": {},
   "outputs": [],
   "source": [
    "# thc_cbd[thc_cbd['Total'] != 0].shape"
   ]
  },
  {
   "cell_type": "code",
   "execution_count": null,
   "metadata": {},
   "outputs": [],
   "source": []
  },
  {
   "cell_type": "markdown",
   "metadata": {},
   "source": [
    "## Set Strain Name As Index"
   ]
  },
  {
   "cell_type": "code",
   "execution_count": null,
   "metadata": {},
   "outputs": [],
   "source": [
    "strain_frame = strain_breakdown.set_index('Strain')"
   ]
  },
  {
   "cell_type": "code",
   "execution_count": null,
   "metadata": {},
   "outputs": [],
   "source": [
    "strain_frame.to_csv('Data/Strain_Frame.csv')"
   ]
  },
  {
   "cell_type": "code",
   "execution_count": null,
   "metadata": {},
   "outputs": [],
   "source": []
  },
  {
   "cell_type": "markdown",
   "metadata": {},
   "source": [
    "## Now Let Unsupervise Learn This Shit"
   ]
  },
  {
   "cell_type": "code",
   "execution_count": null,
   "metadata": {},
   "outputs": [],
   "source": [
    "np.set_printoptions(threshold=1000, suppress=None)"
   ]
  },
  {
   "cell_type": "code",
   "execution_count": null,
   "metadata": {},
   "outputs": [],
   "source": [
    "# X = strain_frame"
   ]
  },
  {
   "cell_type": "code",
   "execution_count": null,
   "metadata": {},
   "outputs": [],
   "source": [
    "pivot = strain_frame.pivot_table(index='Strain')"
   ]
  },
  {
   "cell_type": "code",
   "execution_count": null,
   "metadata": {},
   "outputs": [],
   "source": [
    "pivot_sparse = sparse.csr_matrix(pivot.fillna(0))"
   ]
  },
  {
   "cell_type": "code",
   "execution_count": null,
   "metadata": {},
   "outputs": [],
   "source": [
    "recommender = (100 * (1 - (pairwise_distances(pivot_sparse, metric='cosine')))).round(decimals=2).astype(float)"
   ]
  },
  {
   "cell_type": "code",
   "execution_count": null,
   "metadata": {},
   "outputs": [],
   "source": [
    "recommender_df = pd.DataFrame(recommender, index=pivot.index, columns=pivot.index)"
   ]
  },
  {
   "cell_type": "code",
   "execution_count": null,
   "metadata": {},
   "outputs": [],
   "source": [
    "# recommender_df.to_csv('Data/Strain Recommender.csv') # This file is too big to save in Git."
   ]
  },
  {
   "cell_type": "code",
   "execution_count": null,
   "metadata": {},
   "outputs": [],
   "source": [
    "recommender.shape"
   ]
  },
  {
   "cell_type": "code",
   "execution_count": null,
   "metadata": {},
   "outputs": [],
   "source": []
  },
  {
   "cell_type": "markdown",
   "metadata": {},
   "source": [
    "### Here we write out out function"
   ]
  },
  {
   "cell_type": "code",
   "execution_count": null,
   "metadata": {},
   "outputs": [],
   "source": [
    "# with open('Data/Strain_Dictionary.txt', 'w') as f:\n",
    "#     f.writelines('\\n'.join(list_of_strains))"
   ]
  },
  {
   "cell_type": "code",
   "execution_count": null,
   "metadata": {},
   "outputs": [],
   "source": [
    "Strain_List = {K: 1 for K in list_of_strains}\n",
    "\n",
    "with open('Data/Strain_List.json', 'w') as f:\n",
    "    json.dump(Strain_List, f)"
   ]
  },
  {
   "cell_type": "code",
   "execution_count": null,
   "metadata": {},
   "outputs": [],
   "source": [
    "sc = SpellChecker(local_dictionary='Data/Strain_List.json')"
   ]
  },
  {
   "cell_type": "code",
   "execution_count": null,
   "metadata": {},
   "outputs": [],
   "source": [
    "def suggestion(strain):\n",
    "    strain_title = strain.title()\n",
    "    try:\n",
    "        print (f\"Strains similar to {strain.upper()} include \")\n",
    "        result = recommender_df[strain_title].sort_values(ascending=False)[1:11]\n",
    "        return result.astype(str).map(lambda x: x + '%')\n",
    "    except:\n",
    "        if sc.correction(strain) != strain:\n",
    "            return (f'Not Found. Did you mean {sc.correction(strain)}?')\n",
    "        else:\n",
    "            return( '''Strain Not Found. \n",
    "If you searched the full strain name, try just the initials.''')"
   ]
  },
  {
   "cell_type": "markdown",
   "metadata": {},
   "source": [
    "#### Testing Time"
   ]
  },
  {
   "cell_type": "code",
   "execution_count": null,
   "metadata": {},
   "outputs": [],
   "source": [
    "suggestion('gsc')"
   ]
  },
  {
   "cell_type": "code",
   "execution_count": null,
   "metadata": {},
   "outputs": [],
   "source": []
  }
 ],
 "metadata": {
  "kernelspec": {
   "display_name": "Python 3",
   "language": "python",
   "name": "python3"
  },
  "language_info": {
   "codemirror_mode": {
    "name": "ipython",
    "version": 3
   },
   "file_extension": ".py",
   "mimetype": "text/x-python",
   "name": "python",
   "nbconvert_exporter": "python",
   "pygments_lexer": "ipython3",
   "version": "3.7.3"
  }
 },
 "nbformat": 4,
 "nbformat_minor": 2
}
