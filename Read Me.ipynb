{
 "cells": [
  {
   "cell_type": "markdown",
   "metadata": {},
   "source": [
    "# Marijuana is the Next Boom\n",
    "\n",
    "Marijuana is currently well on it's way towards legalization in the United States. 11 states and The District of Columbia have fully legalized it, more than half of the states in the country have legalizaed in for medical purposes, and according to a [Pew Research Center survey](https://www.pewresearch.org/fact-tank/2019/11/14/americans-support-marijuana-legalization/) taken in September of this year, public support for legalization has reached 91% of adults in the country, with 52% beleiving it should be legal for both medical and recreational use and the remaining 32% only believing it should be legal for medical purposes. The House Judiciary Committee has even approved legalizing it Federally within the last month, though this means very little about it's actual legalization with the curent Senate.\n",
    "\n",
    "Regaradless of potential roadblocks to legalization that may be slowing things down, marijuana is going to be legal soon, and those looking to at that fact from the business side of things would be wise not to wait for a Federal green light to start looking into the industry. \n",
    "\n",
    "[Three of the fastest growing marijuana companies in the world are currently headquartered in the US](https://finance.yahoo.com/news/25-biggest-marijuana-companies-world-164421405.html), with Arena Pharmaceuticals Inc. from California, iAnthus Capital Holdings Inc. from New York, and Cara Therapeutics Inc. from Connecticut all seeing growths rates in the thousands of percents.\n",
    "\n",
    "As of May of this year, Colorado has seen over [$6.5 billion dollars in marijuana sales](https://www.cnbc.com/2019/06/12/colorado-passes-1-billion-in-marijuana-state-revenue.html) since it's legalization in 2014."
   ]
  },
  {
   "cell_type": "code",
   "execution_count": null,
   "metadata": {},
   "outputs": [],
   "source": []
  }
 ],
 "metadata": {
  "kernelspec": {
   "display_name": "Python 3",
   "language": "python",
   "name": "python3"
  },
  "language_info": {
   "codemirror_mode": {
    "name": "ipython",
    "version": 3
   },
   "file_extension": ".py",
   "mimetype": "text/x-python",
   "name": "python",
   "nbconvert_exporter": "python",
   "pygments_lexer": "ipython3",
   "version": "3.7.3"
  }
 },
 "nbformat": 4,
 "nbformat_minor": 2
}
